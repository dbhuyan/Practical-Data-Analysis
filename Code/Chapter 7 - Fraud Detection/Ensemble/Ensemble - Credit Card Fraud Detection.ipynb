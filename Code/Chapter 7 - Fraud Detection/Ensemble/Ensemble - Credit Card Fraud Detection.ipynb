{
 "cells": [
  {
   "cell_type": "markdown",
   "metadata": {},
   "source": [
    "Data source - https://www.kaggle.com/dalpozz/creditcardfraud\n",
    "\n",
    "Description -\n",
    "The datasets contains transactions made by credit cards in September 2013 by european cardholders. This dataset presents transactions that occurred in two days, where we have 492 frauds out of 284,807 transactions. The dataset is highly unbalanced, the positive class (frauds) account for 0.172% of all transactions.\n",
    "\n",
    "It contains only numerical input variables which are the result of a PCA transformation. Unfortunately, due to confidentiality issues, the original features and more background information about the data is not included. Features V1, V2, ... V28 are the principal components obtained with PCA, the only features which have not been transformed with PCA are 'Time' and 'Amount'. Feature 'Time' contains the seconds elapsed between each transaction and the first transaction in the dataset. The feature 'Amount' is the transaction Amount, this feature can be used for example-dependant cost-senstive learning. Feature 'Class' is the response variable and it takes value 1 in case of fraud and 0 otherwise.\n",
    "\n",
    "The dataset was collected and analysed during a research collaboration of Worldline and the Machine Learning Group (http://mlg.ulb.ac.be) of ULB (Université Libre de Bruxelles) on big data mining and fraud detection. More details on current and past projects on related topics are available on http://mlg.ulb.ac.be/BruFence and http://mlg.ulb.ac.be/ARTML\n",
    "\n",
    "Citation: Andrea Dal Pozzolo, Olivier Caelen, Reid A. Johnson and Gianluca Bontempi. Calibrating Probability with Undersampling for Unbalanced Classification. In Symposium on Computational Intelligence and Data Mining (CIDM), IEEE, 2015"
   ]
  },
  {
   "cell_type": "code",
   "execution_count": 1,
   "metadata": {
    "collapsed": true
   },
   "outputs": [],
   "source": [
    "import numpy as np\n",
    "import pandas as pd\n",
    "from sklearn.model_selection import train_test_split\n",
    "from sklearn.preprocessing import MinMaxScaler\n",
    "\n",
    "df = pd.read_csv(\"creditcardfraud/creditcard.csv\")"
   ]
  },
  {
   "cell_type": "code",
   "execution_count": 2,
   "metadata": {},
   "outputs": [
    {
     "name": "stderr",
     "output_type": "stream",
     "text": [
      "C:\\ProgramData\\Anaconda3\\lib\\site-packages\\ipykernel_launcher.py:7: FutureWarning: reshape is deprecated and will raise in a subsequent release. Please use .values.reshape(...) instead\n",
      "  import sys\n"
     ]
    }
   ],
   "source": [
    "df_class = df[\"Class\"]\n",
    "df = df.drop(\"Class\", axis=1)\n",
    "df = df.drop(\"Time\", axis=1)\n",
    "\n",
    "scaler = MinMaxScaler(feature_range=(0, 1))\n",
    "amount = df['Amount']\n",
    "amount = amount.reshape((len(amount), 1))\n",
    "scaled_amount = scaler.fit_transform(amount)\n",
    "df['Amount'] = scaled_amount"
   ]
  },
  {
   "cell_type": "code",
   "execution_count": 3,
   "metadata": {
    "collapsed": true
   },
   "outputs": [],
   "source": [
    "data_train, data_test, class_train, class_test = train_test_split(df, df_class, test_size=0.4, random_state=0)"
   ]
  },
  {
   "cell_type": "code",
   "execution_count": 4,
   "metadata": {},
   "outputs": [
    {
     "name": "stdout",
     "output_type": "stream",
     "text": [
      "Training Dataset\n",
      "Genuine transactions -  170591\n",
      "Fradulent transactions -  293\n"
     ]
    }
   ],
   "source": [
    "print(\"Training Dataset\")\n",
    "print(\"Genuine transactions - \", len(class_train[class_train == 0]))\n",
    "print(\"Fradulent transactions - \", len(class_train[class_train == 1]))"
   ]
  },
  {
   "cell_type": "code",
   "execution_count": 5,
   "metadata": {},
   "outputs": [
    {
     "name": "stdout",
     "output_type": "stream",
     "text": [
      "Test Dataset\n",
      "Genuine transactions -  113724\n",
      "Fradulent transactions -  199\n"
     ]
    }
   ],
   "source": [
    "print(\"Test Dataset\")\n",
    "print(\"Genuine transactions - \", len(class_test[class_test == 0]))\n",
    "print(\"Fradulent transactions - \", len(class_test[class_test == 1]))"
   ]
  },
  {
   "cell_type": "markdown",
   "metadata": {},
   "source": [
    "## Random Forest"
   ]
  },
  {
   "cell_type": "markdown",
   "metadata": {},
   "source": [
    "Make sure imblearn is installed (pip install imblearn) as it is not included by default in Anaconda."
   ]
  },
  {
   "cell_type": "code",
   "execution_count": 6,
   "metadata": {
    "collapsed": true
   },
   "outputs": [],
   "source": [
    "from imblearn.over_sampling import SMOTE\n",
    "from sklearn.ensemble import RandomForestClassifier\n",
    "from sklearn.metrics import confusion_matrix"
   ]
  },
  {
   "cell_type": "code",
   "execution_count": 7,
   "metadata": {},
   "outputs": [
    {
     "name": "stderr",
     "output_type": "stream",
     "text": [
      "C:\\ProgramData\\Anaconda3\\lib\\site-packages\\sklearn\\utils\\deprecation.py:75: DeprecationWarning: Function _ratio_float is deprecated; Use a float for 'ratio' is deprecated from version 0.2. The support will be removed in 0.4. Use a dict, str, or a callable instead.\n",
      "  warnings.warn(msg, category=DeprecationWarning)\n"
     ]
    }
   ],
   "source": [
    "oversampler = SMOTE(random_state=0, ratio=0.5, kind='svm', k_neighbors=8)\n",
    "os_train, os_class = oversampler.fit_sample(data_train, class_train)"
   ]
  },
  {
   "cell_type": "code",
   "execution_count": 8,
   "metadata": {},
   "outputs": [
    {
     "name": "stdout",
     "output_type": "stream",
     "text": [
      "SMOTE Adjusted Training Dataset\n",
      "Genuine transactions -  170591\n",
      "Fradulent transactions -  85295\n"
     ]
    }
   ],
   "source": [
    "print(\"SMOTE Adjusted Training Dataset\")\n",
    "print(\"Genuine transactions - \", len(os_class[os_class == 0]))\n",
    "print(\"Fradulent transactions - \", len(os_class[os_class == 1]))"
   ]
  },
  {
   "cell_type": "code",
   "execution_count": 9,
   "metadata": {},
   "outputs": [
    {
     "data": {
      "text/plain": [
       "RandomForestClassifier(bootstrap=True, class_weight=None, criterion='gini',\n",
       "            max_depth=None, max_features='sqrt', max_leaf_nodes=None,\n",
       "            min_impurity_decrease=0.0, min_impurity_split=None,\n",
       "            min_samples_leaf=1, min_samples_split=2,\n",
       "            min_weight_fraction_leaf=0.0, n_estimators=50, n_jobs=1,\n",
       "            oob_score=False, random_state=0, verbose=0, warm_start=False)"
      ]
     },
     "execution_count": 9,
     "metadata": {},
     "output_type": "execute_result"
    }
   ],
   "source": [
    "rf_classifier = RandomForestClassifier(n_estimators=50, random_state=0, max_features='sqrt')\n",
    "rf_classifier.fit(os_train, os_class)"
   ]
  },
  {
   "cell_type": "code",
   "execution_count": 10,
   "metadata": {
    "collapsed": true
   },
   "outputs": [],
   "source": [
    "rf_predictions = rf_classifier.predict(data_test)\n",
    "rf_cm = confusion_matrix(class_test, rf_predictions)"
   ]
  },
  {
   "cell_type": "code",
   "execution_count": 11,
   "metadata": {},
   "outputs": [
    {
     "data": {
      "text/html": [
       "<div>\n",
       "<style>\n",
       "    .dataframe thead tr:only-child th {\n",
       "        text-align: right;\n",
       "    }\n",
       "\n",
       "    .dataframe thead th {\n",
       "        text-align: left;\n",
       "    }\n",
       "\n",
       "    .dataframe tbody tr th {\n",
       "        vertical-align: top;\n",
       "    }\n",
       "</style>\n",
       "<table border=\"1\" class=\"dataframe\">\n",
       "  <thead>\n",
       "    <tr style=\"text-align: right;\">\n",
       "      <th></th>\n",
       "      <th>Predicted As Genuine Transactions</th>\n",
       "      <th>Predicted As Fradulent Transactions</th>\n",
       "    </tr>\n",
       "  </thead>\n",
       "  <tbody>\n",
       "    <tr>\n",
       "      <th>Actual Genuine Transactions</th>\n",
       "      <td>113700</td>\n",
       "      <td>24</td>\n",
       "    </tr>\n",
       "    <tr>\n",
       "      <th>Actual Fraudulent Transactions</th>\n",
       "      <td>33</td>\n",
       "      <td>166</td>\n",
       "    </tr>\n",
       "  </tbody>\n",
       "</table>\n",
       "</div>"
      ],
      "text/plain": [
       "                                Predicted As Genuine Transactions  \\\n",
       "Actual Genuine Transactions                                113700   \n",
       "Actual Fraudulent Transactions                                 33   \n",
       "\n",
       "                                Predicted As Fradulent Transactions  \n",
       "Actual Genuine Transactions                                      24  \n",
       "Actual Fraudulent Transactions                                  166  "
      ]
     },
     "execution_count": 11,
     "metadata": {},
     "output_type": "execute_result"
    }
   ],
   "source": [
    "columns = [\"Predicted As Genuine Transactions\", \"Predicted As Fradulent Transactions\"]\n",
    "index = [\"Actual Genuine Transactions\", \"Actual Fraudulent Transactions\"]\n",
    "df_rf = pd.DataFrame(rf_cm, index=index, columns=columns)\n",
    "df_rf"
   ]
  },
  {
   "cell_type": "code",
   "execution_count": 12,
   "metadata": {
    "collapsed": true
   },
   "outputs": [],
   "source": [
    "test_predictions = pd.DataFrame()\n",
    "test_predictions['RFpredictions'] = rf_predictions"
   ]
  },
  {
   "cell_type": "code",
   "execution_count": 13,
   "metadata": {
    "collapsed": true
   },
   "outputs": [],
   "source": [
    "train_data = data_train.as_matrix()\n",
    "rf_predictions = rf_classifier.predict(train_data)\n",
    "train_predictions = pd.DataFrame()\n",
    "train_predictions['RFprediction'] = rf_predictions"
   ]
  },
  {
   "cell_type": "markdown",
   "metadata": {},
   "source": [
    "### XGBoost"
   ]
  },
  {
   "cell_type": "code",
   "execution_count": 14,
   "metadata": {},
   "outputs": [
    {
     "name": "stderr",
     "output_type": "stream",
     "text": [
      "C:\\ProgramData\\Anaconda3\\lib\\site-packages\\sklearn\\utils\\deprecation.py:75: DeprecationWarning: Function _ratio_float is deprecated; Use a float for 'ratio' is deprecated from version 0.2. The support will be removed in 0.4. Use a dict, str, or a callable instead.\n",
      "  warnings.warn(msg, category=DeprecationWarning)\n"
     ]
    }
   ],
   "source": [
    "oversampler = SMOTE(random_state=0, ratio=0.5)\n",
    "os_train, os_class = oversampler.fit_sample(data_train, class_train)"
   ]
  },
  {
   "cell_type": "code",
   "execution_count": 15,
   "metadata": {},
   "outputs": [
    {
     "name": "stdout",
     "output_type": "stream",
     "text": [
      "SMOTE Adjusted Training Dataset\n",
      "Genuine transactions -  170591\n",
      "Fradulent transactions -  85295\n"
     ]
    }
   ],
   "source": [
    "print(\"SMOTE Adjusted Training Dataset\")\n",
    "print(\"Genuine transactions - \", len(os_class[os_class == 0]))\n",
    "print(\"Fradulent transactions - \", len(os_class[os_class == 1]))"
   ]
  },
  {
   "cell_type": "code",
   "execution_count": 16,
   "metadata": {},
   "outputs": [
    {
     "data": {
      "text/plain": [
       "XGBClassifier(base_score=0.5, booster='gbtree', colsample_bylevel=0.5,\n",
       "       colsample_bytree=0.5, gamma=1.5, learning_rate=0.1,\n",
       "       max_delta_step=0, max_depth=15, min_child_weight=2.5, missing=None,\n",
       "       n_estimators=100, n_jobs=1, nthread=16, objective='binary:logitraw',\n",
       "       random_state=0, reg_alpha=0, reg_lambda=0, scale_pos_weight=1,\n",
       "       seed=0, silent=True, subsample=0.5)"
      ]
     },
     "execution_count": 16,
     "metadata": {},
     "output_type": "execute_result"
    }
   ],
   "source": [
    "import xgboost as xgb\n",
    "xgb_classifier = xgb.XGBClassifier(n_estimators=100, random_state=0, max_depth=15, min_child_weight=2.5, gamma=1.5,\n",
    "                                  objective='binary:logitraw', nthread=16, learning_rate=0.1, subsample=0.5,\n",
    "                                  booster='gbtree', colsample_bytree=0.5, colsample_bylevel=0.5, reg_lambda=0,\n",
    "                                   reg_alpha=0, max_delta_step=0, seed=0)\n",
    "\n",
    "xgb_classifier.fit(os_train, os_class)"
   ]
  },
  {
   "cell_type": "code",
   "execution_count": 17,
   "metadata": {
    "collapsed": true
   },
   "outputs": [],
   "source": [
    "test_array = data_test.as_matrix()\n",
    "xgb_predictions = xgb_classifier.predict(test_array)\n",
    "xgb_cm = confusion_matrix(class_test, xgb_predictions)"
   ]
  },
  {
   "cell_type": "code",
   "execution_count": 18,
   "metadata": {},
   "outputs": [
    {
     "data": {
      "text/html": [
       "<div>\n",
       "<style>\n",
       "    .dataframe thead tr:only-child th {\n",
       "        text-align: right;\n",
       "    }\n",
       "\n",
       "    .dataframe thead th {\n",
       "        text-align: left;\n",
       "    }\n",
       "\n",
       "    .dataframe tbody tr th {\n",
       "        vertical-align: top;\n",
       "    }\n",
       "</style>\n",
       "<table border=\"1\" class=\"dataframe\">\n",
       "  <thead>\n",
       "    <tr style=\"text-align: right;\">\n",
       "      <th></th>\n",
       "      <th>Predicted As Genuine Transactions</th>\n",
       "      <th>Predicted As Fradulent Transactions</th>\n",
       "    </tr>\n",
       "  </thead>\n",
       "  <tbody>\n",
       "    <tr>\n",
       "      <th>Actual Genuine Transactions</th>\n",
       "      <td>113698</td>\n",
       "      <td>26</td>\n",
       "    </tr>\n",
       "    <tr>\n",
       "      <th>Actual Fraudulent Transactions</th>\n",
       "      <td>32</td>\n",
       "      <td>167</td>\n",
       "    </tr>\n",
       "  </tbody>\n",
       "</table>\n",
       "</div>"
      ],
      "text/plain": [
       "                                Predicted As Genuine Transactions  \\\n",
       "Actual Genuine Transactions                                113698   \n",
       "Actual Fraudulent Transactions                                 32   \n",
       "\n",
       "                                Predicted As Fradulent Transactions  \n",
       "Actual Genuine Transactions                                      26  \n",
       "Actual Fraudulent Transactions                                  167  "
      ]
     },
     "execution_count": 18,
     "metadata": {},
     "output_type": "execute_result"
    }
   ],
   "source": [
    "df_xgb = pd.DataFrame(xgb_cm, index=index, columns=columns)\n",
    "df_xgb"
   ]
  },
  {
   "cell_type": "code",
   "execution_count": 19,
   "metadata": {
    "collapsed": true
   },
   "outputs": [],
   "source": [
    "test_predictions['XGBprediction'] = xgb_predictions"
   ]
  },
  {
   "cell_type": "code",
   "execution_count": 20,
   "metadata": {
    "collapsed": true
   },
   "outputs": [],
   "source": [
    "train_data = data_train.as_matrix()\n",
    "xgb_predictions =  xgb_classifier.predict(train_data)\n",
    "train_predictions['XGBprediction'] = xgb_predictions"
   ]
  },
  {
   "cell_type": "markdown",
   "metadata": {},
   "source": [
    "## Autoencoder"
   ]
  },
  {
   "cell_type": "code",
   "execution_count": 21,
   "metadata": {},
   "outputs": [
    {
     "name": "stderr",
     "output_type": "stream",
     "text": [
      "Using TensorFlow backend.\n"
     ]
    }
   ],
   "source": [
    "from keras.models import Sequential\n",
    "from keras.layers import Dense, Activation\n",
    "\n",
    "np.random.seed(0)\n",
    "epoch = 50\n",
    "\n",
    "AE1 = Sequential([\n",
    "        Dense(24, input_shape=(28,)),\n",
    "        Activation('relu'),\n",
    "        Dense(28),\n",
    "        Activation('relu'),\n",
    "    ])\n",
    "\n",
    "AE1.compile(optimizer='sgd', loss='mse', metrics=['accuracy'])"
   ]
  },
  {
   "cell_type": "code",
   "execution_count": 22,
   "metadata": {
    "collapsed": true
   },
   "outputs": [],
   "source": [
    "data_train = data_train.drop(\"Amount\", axis=1)\n",
    "data_test = data_test.drop(\"Amount\", axis=1)\n",
    "\n",
    "os_train = data_train.as_matrix()\n",
    "os_class = class_train.as_matrix()"
   ]
  },
  {
   "cell_type": "code",
   "execution_count": 23,
   "metadata": {},
   "outputs": [
    {
     "name": "stdout",
     "output_type": "stream",
     "text": [
      "Train on 170884 samples, validate on 170884 samples\n",
      "Epoch 1/50\n",
      "170884/170884 [==============================] - 11s - loss: 0.8442 - acc: 0.5667 - val_loss: 0.7536 - val_acc: 0.6955\n",
      "Epoch 2/50\n",
      "170884/170884 [==============================] - 11s - loss: 0.7371 - acc: 0.7291 - val_loss: 0.7242 - val_acc: 0.7547\n",
      "Epoch 3/50\n",
      "170884/170884 [==============================] - 11s - loss: 0.7161 - acc: 0.7685 - val_loss: 0.7092 - val_acc: 0.7802\n",
      "Epoch 4/50\n",
      "170884/170884 [==============================] - 11s - loss: 0.7027 - acc: 0.7905 - val_loss: 0.6969 - val_acc: 0.8015\n",
      "Epoch 5/50\n",
      "170884/170884 [==============================] - 11s - loss: 0.6923 - acc: 0.8115 - val_loss: 0.6873 - val_acc: 0.8200\n",
      "Epoch 6/50\n",
      "170884/170884 [==============================] - 11s - loss: 0.6827 - acc: 0.8280 - val_loss: 0.6771 - val_acc: 0.8372cc: 0 - ETA: 4s - loss: 0.6956 - ac - ETA: 3s - loss:  - ETA: 2 - ETA: 1s - los\n",
      "Epoch 7/50\n",
      "170884/170884 [==============================] - 11s - loss: 0.6690 - acc: 0.8490 - val_loss: 0.6617 - val_acc: 0.8626\n",
      "Epoch 8/50\n",
      "170884/170884 [==============================] - 11s - loss: 0.6592 - acc: 0.8739 - val_loss: 0.6571 - val_acc: 0.8829  - ETA: 1s - loss:\n",
      "Epoch 9/50\n",
      "170884/170884 [==============================] - 11s - loss: 0.6557 - acc: 0.8893 - val_loss: 0.6544 - val_acc: 0.8946ETA: 1s\n",
      "Epoch 10/50\n",
      "170884/170884 [==============================] - 11s - loss: 0.6531 - acc: 0.8996 - val_loss: 0.6518 - val_acc: 0.9038 - loss: 0.6523 - acc: 0.8 -\n",
      "Epoch 11/50\n",
      "170884/170884 [==============================] - 11s - loss: 0.6509 - acc: 0.9073 - val_loss: 0.6498 - val_acc: 0.91171s - loss: 0.654 - ETA: 0s - loss: 0.6556 - acc:\n",
      "Epoch 12/50\n",
      "170884/170884 [==============================] - 11s - loss: 0.6487 - acc: 0.9145 - val_loss: 0.6477 - val_acc: 0.9178 ETA: 0s - loss: 0.6488 - acc:\n",
      "Epoch 13/50\n",
      "170884/170884 [==============================] - 11s - loss: 0.6469 - acc: 0.9205 - val_loss: 0.6460 - val_acc: 0.9212\n",
      "Epoch 14/50\n",
      "170884/170884 [==============================] - 11s - loss: 0.6451 - acc: 0.9239 - val_loss: 0.6435 - val_acc: 0.9239\n",
      "Epoch 15/50\n",
      "170884/170884 [==============================] - 11s - loss: 0.6368 - acc: 0.9309 - val_loss: 0.6336 - val_acc: 0.9427s: 0.6426 - acc: 0.92 - ETA: 3s -\n",
      "Epoch 16/50\n",
      "170884/170884 [==============================] - 11s - loss: 0.6326 - acc: 0.9472 - val_loss: 0.6319 - val_acc: 0.9499\n",
      "Epoch 17/50\n",
      "170884/170884 [==============================] - 11s - loss: 0.6316 - acc: 0.9517 - val_loss: 0.6313 - val_acc: 0.9546\n",
      "Epoch 18/50\n",
      "170884/170884 [==============================] - 11s - loss: 0.6311 - acc: 0.9550 - val_loss: 0.6309 - val_acc: 0.9564\n",
      "Epoch 19/50\n",
      "170884/170884 [==============================] - 11s - loss: 0.6307 - acc: 0.9578 - val_loss: 0.6306 - val_acc: 0.9582ss: 0.6\n",
      "Epoch 20/50\n",
      "170884/170884 [==============================] - 11s - loss: 0.6305 - acc: 0.9595 - val_loss: 0.6302 - val_acc: 0.9601\n",
      "Epoch 21/50\n",
      "170884/170884 [==============================] - 11s - loss: 0.6300 - acc: 0.9607 - val_loss: 0.6298 - val_acc: 0.9621\n",
      "Epoch 22/50\n",
      "170884/170884 [==============================] - 11s - loss: 0.6297 - acc: 0.9628 - val_loss: 0.6297 - val_acc: 0.9643s - loss: 0.6303 - acc: 0.9\n",
      "Epoch 23/50\n",
      "170884/170884 [==============================] - 12s - loss: 0.6295 - acc: 0.9644 - val_loss: 0.6293 - val_acc: 0.9651\n",
      "Epoch 24/50\n",
      "170884/170884 [==============================] - 11s - loss: 0.6293 - acc: 0.9648 - val_loss: 0.6292 - val_acc: 0.9652\n",
      "Epoch 25/50\n",
      "170884/170884 [==============================] - 12s - loss: 0.6292 - acc: 0.9668 - val_loss: 0.6292 - val_acc: 0.9667\n",
      "Epoch 26/50\n",
      "170884/170884 [==============================] - 11s - loss: 0.6290 - acc: 0.9677 - val_loss: 0.6290 - val_acc: 0.9681\n",
      "Epoch 27/50\n",
      "170884/170884 [==============================] - 11s - loss: 0.6289 - acc: 0.9688 - val_loss: 0.6289 - val_acc: 0.9680ETA: 2s - loss: 0.6375 - ac - ETA: 1s - loss: 0.63 - ETA: 0s - loss: 0.6306\n",
      "Epoch 28/50\n",
      "170884/170884 [==============================] - 12s - loss: 0.6288 - acc: 0.9701 - val_loss: 0.6288 - val_acc: 0.9703\n",
      "Epoch 29/50\n",
      "170884/170884 [==============================] - 11s - loss: 0.6288 - acc: 0.9698 - val_loss: 0.6287 - val_acc: 0.9714ss - ETA: 5s - loss: 0.6469 - a - ETA: 4s - lo - ETA: 3s - loss: 0.63 - ETA: 2s - - ETA: 1s - loss: - ETA: 0s - loss: 0.6293 - acc: 0.9\n",
      "Epoch 30/50\n",
      "170884/170884 [==============================] - 11s - loss: 0.6286 - acc: 0.9709 - val_loss: 0.6286 - val_acc: 0.9694 0s - loss: 0.6282 - acc: 0.\n",
      "Epoch 31/50\n",
      "170884/170884 [==============================] - 11s - loss: 0.6285 - acc: 0.9716 - val_loss: 0.6284 - val_acc: 0.9724 0.6218 - acc: 0.97 - - \n",
      "Epoch 32/50\n",
      "170884/170884 [==============================] - 11s - loss: 0.6285 - acc: 0.9695 - val_loss: 0.6283 - val_acc: 0.9716 ETA: 2s - loss: 0.62\n",
      "Epoch 33/50\n",
      "170884/170884 [==============================] - 12s - loss: 0.6282 - acc: 0.9723 - val_loss: 0.6281 - val_acc: 0.9734\n",
      "Epoch 34/50\n",
      "170884/170884 [==============================] - 11s - loss: 0.6281 - acc: 0.9734 - val_loss: 0.6280 - val_acc: 0.9734\n",
      "Epoch 35/50\n",
      "170884/170884 [==============================] - 11s - loss: 0.6281 - acc: 0.9715 - val_loss: 0.6280 - val_acc: 0.9741.9\n",
      "Epoch 36/50\n",
      "170884/170884 [==============================] - 11s - loss: 0.6280 - acc: 0.9741 - val_loss: 0.6279 - val_acc: 0.9749.97 - ETA: 6s -  - ETA: 4s - loss: 0.626 - ETA: 2s - loss: 0.6322 - acc: 0.\n",
      "Epoch 37/50\n",
      "170884/170884 [==============================] - 11s - loss: 0.6279 - acc: 0.9750 - val_loss: 0.6279 - val_acc: 0.9751  - ETA: 0s - loss: 0.6267 - acc:\n",
      "Epoch 38/50\n",
      "170884/170884 [==============================] - 11s - loss: 0.6279 - acc: 0.9758 - val_loss: 0.6278 - val_acc: 0.9758 ETA: 3s -\n",
      "Epoch 39/50\n",
      "170884/170884 [==============================] - 11s - loss: 0.6278 - acc: 0.9762 - val_loss: 0.6278 - val_acc: 0.9764 acc: 0 - E - ETA: 0s - loss: 0.6274 - acc\n",
      "Epoch 40/50\n",
      "170884/170884 [==============================] - 12s - loss: 0.6278 - acc: 0.9767 - val_loss: 0.6278 - val_acc: 0.9763\n",
      "Epoch 41/50\n",
      "170884/170884 [==============================] - 11s - loss: 0.6278 - acc: 0.9756 - val_loss: 0.6277 - val_acc: 0.9771.9 - ETA: 0s - loss: 0.\n",
      "Epoch 42/50\n",
      "170884/170884 [==============================] - 12s - loss: 0.6277 - acc: 0.9769 - val_loss: 0.6277 - val_acc: 0.9767l - ETA: 0s - loss: 0.627\n",
      "Epoch 43/50\n",
      "170884/170884 [==============================] - 11s - loss: 0.6277 - acc: 0.9773 - val_loss: 0.6276 - val_acc: 0.9778.97 - ETA: 0s - loss: 0.6284 - acc: 0.9\n",
      "Epoch 44/50\n",
      "170884/170884 [==============================] - 11s - loss: 0.6276 - acc: 0.9775 - val_loss: 0.6276 - val_acc: 0.9773.976 - ETA: 5s - loss: 0.6105 -  - ETA: 2s - loss: 0.6276  - ETA: 2s - loss: 0. - ETA: 1s - loss: 0.6286 - acc: - ETA: 0s - loss: 0.6289 - acc - ETA: 0s - loss: 0.6274 - a\n",
      "Epoch 45/50\n",
      "170884/170884 [==============================] - 11s - loss: 0.6276 - acc: 0.9777 - val_loss: 0.6276 - val_acc: 0.97758 - ETA: 3s - loss: 0.6260 - acc: 0.97 -  - ETA: 0s - loss: 0.6\n",
      "Epoch 46/50\n",
      "170884/170884 [==============================] - 11s - loss: 0.6276 - acc: 0.9769 - val_loss: 0.6275 - val_acc: 0.9781\n",
      "Epoch 47/50\n",
      "170884/170884 [==============================] - 12s - loss: 0.6275 - acc: 0.9782 - val_loss: 0.6275 - val_acc: 0.9782\n",
      "Epoch 48/50\n",
      "170884/170884 [==============================] - 11s - loss: 0.6275 - acc: 0.9783 - val_loss: 0.6275 - val_acc: 0.9784268 - acc: 0.9\n",
      "Epoch 49/50\n",
      "170884/170884 [==============================] - 12s - loss: 0.6275 - acc: 0.9787 - val_loss: 0.6272 - val_acc: 0.9780\n",
      "Epoch 50/50\n",
      "170884/170884 [==============================] - 11s - loss: 0.6265 - acc: 0.9788 - val_loss: 0.6266 - val_acc: 0.9791\n"
     ]
    },
    {
     "data": {
      "text/plain": [
       "<keras.callbacks.History at 0x2709c4a3fd0>"
      ]
     },
     "execution_count": 23,
     "metadata": {},
     "output_type": "execute_result"
    }
   ],
   "source": [
    "from keras.callbacks import ModelCheckpoint, TensorBoard\n",
    "AE1checkpointer = ModelCheckpoint(filepath=\"AE1\", verbose=0, save_best_only=True)\n",
    "tensorboard = TensorBoard(log_dir='./logs', histogram_freq=0, write_graph=True, write_images=True)\n",
    "AE1.fit(os_train, os_train, epochs=epoch, batch_size=16, shuffle=True, validation_data=(os_train, os_train),\n",
    "                      verbose=1, callbacks=[AE1checkpointer, tensorboard])"
   ]
  },
  {
   "cell_type": "code",
   "execution_count": 24,
   "metadata": {
    "collapsed": true
   },
   "outputs": [],
   "source": [
    "from keras import backend as K\n",
    "AE1_get_activations = K.function([AE1.layers[0].input], [AE1.layers[1].output])\n",
    "AE1_features = AE1_get_activations([os_train])[0]"
   ]
  },
  {
   "cell_type": "code",
   "execution_count": 25,
   "metadata": {
    "collapsed": true
   },
   "outputs": [],
   "source": [
    "Classifier = Sequential([\n",
    "        Dense(1, input_shape=(24,)),\n",
    "        Activation('sigmoid'),\n",
    "    ])\n",
    "\n",
    "Classifier.compile(optimizer='sgd', loss='binary_crossentropy', metrics=['accuracy'])"
   ]
  },
  {
   "cell_type": "code",
   "execution_count": 26,
   "metadata": {},
   "outputs": [
    {
     "name": "stdout",
     "output_type": "stream",
     "text": [
      "Train on 170884 samples, validate on 170884 samples\n",
      "Epoch 1/10\n",
      "170884/170884 [==============================] - 11s - loss: 0.0149 - acc: 0.9986 - val_loss: 0.0089 - val_acc: 0.9991\n",
      "Epoch 2/10\n",
      "170884/170884 [==============================] - 11s - loss: 0.0081 - acc: 0.9992 - val_loss: 0.0073 - val_acc: 0.9992\n",
      "Epoch 3/10\n",
      "170884/170884 [==============================] - 11s - loss: 0.0071 - acc: 0.9992 - val_loss: 0.0069 - val_acc: 0.9993 1s - loss: 0.0076 - acc - ETA: 0s - loss: 0.0073\n",
      "Epoch 4/10\n",
      "170884/170884 [==============================] - 11s - loss: 0.0068 - acc: 0.9993 - val_loss: 0.0066 - val_acc: 0.9993A: 4s - loss: 0.0065 - a - ETA: 4s - loss: 0.0070 - ETA: 3s - loss: 0.0073 -  - ETA: 0s - loss: 0.0069 - ac\n",
      "Epoch 5/10\n",
      "170884/170884 [==============================] - 11s - loss: 0.0066 - acc: 0.9993 - val_loss: 0.0064 - val_acc: 0.9993\n",
      "Epoch 6/10\n",
      "170884/170884 [==============================] - 12s - loss: 0.0064 - acc: 0.9993 - val_loss: 0.0063 - val_acc: 0.9993 - ETA: 4s - loss: 0.0069 - a\n",
      "Epoch 7/10\n",
      "170884/170884 [==============================] - 11s - loss: 0.0062 - acc: 0.9993 - val_loss: 0.0062 - val_acc: 0.99940.0059 - acc: 0.9 - ETA: 3s - loss: 0.0062 - acc:  - ETA: 3s \n",
      "Epoch 8/10\n",
      "170884/170884 [==============================] - 11s - loss: 0.0061 - acc: 0.9993 - val_loss: 0.0060 - val_acc: 0.9993\n",
      "Epoch 9/10\n",
      "170884/170884 [==============================] - 11s - loss: 0.0060 - acc: 0.9994 - val_loss: 0.0060 - val_acc: 0.9994\n",
      "Epoch 10/10\n",
      "170884/170884 [==============================] - 11s - loss: 0.0060 - acc: 0.9994 - val_loss: 0.0060 - val_acc: 0.9993.999\n"
     ]
    },
    {
     "data": {
      "text/plain": [
       "<keras.callbacks.History at 0x270c3477908>"
      ]
     },
     "execution_count": 26,
     "metadata": {},
     "output_type": "execute_result"
    }
   ],
   "source": [
    "classifier_checkpointer = ModelCheckpoint(filepath=\"Classifier\", verbose=0, save_best_only=True)\n",
    "tensorboard = TensorBoard(log_dir='./logs', histogram_freq=0, write_graph=True, write_images=True)\n",
    "Classifier.fit(AE1_features, os_class, epochs=10, batch_size=16, shuffle=True, validation_data=(AE1_features, os_class),\n",
    "                      verbose=1, callbacks=[classifier_checkpointer, tensorboard])"
   ]
  },
  {
   "cell_type": "code",
   "execution_count": 27,
   "metadata": {
    "collapsed": true
   },
   "outputs": [],
   "source": [
    "DenseNetwork = Sequential()\n",
    "DenseNetwork.add(AE1.layers[0])\n",
    "DenseNetwork.add(AE1.layers[1])\n",
    "DenseNetwork.add(Classifier)"
   ]
  },
  {
   "cell_type": "code",
   "execution_count": 28,
   "metadata": {
    "collapsed": true
   },
   "outputs": [],
   "source": [
    "from keras import optimizers\n",
    "sgd = optimizers.SGD(lr=0.01, clipnorm=1.)\n",
    "DenseNetwork.compile(optimizer=sgd, loss='binary_crossentropy', metrics=['accuracy'])"
   ]
  },
  {
   "cell_type": "code",
   "execution_count": 29,
   "metadata": {},
   "outputs": [
    {
     "name": "stdout",
     "output_type": "stream",
     "text": [
      "Train on 170884 samples, validate on 170884 samples\n",
      "Epoch 1/5\n",
      "170884/170884 [==============================] - 13s - loss: 0.0055 - acc: 0.9993 - val_loss: 0.0051 - val_acc: 0.9994\n",
      "Epoch 2/5\n",
      "170884/170884 [==============================] - 12s - loss: 0.0050 - acc: 0.9994 - val_loss: 0.0048 - val_acc: 0.9994\n",
      "Epoch 3/5\n",
      "170884/170884 [==============================] - 13s - loss: 0.0047 - acc: 0.9994 - val_loss: 0.0045 - val_acc: 0.9994\n",
      "Epoch 4/5\n",
      "170884/170884 [==============================] - 12s - loss: 0.0044 - acc: 0.9994 - val_loss: 0.0042 - val_acc: 0.9994\n",
      "Epoch 5/5\n",
      "170884/170884 [==============================] - 12s - loss: 0.0041 - acc: 0.9994 - val_loss: 0.0041 - val_acc: 0.9994loss: 0.0045 - ac - ETA: 0s - loss: 0.0043\n"
     ]
    },
    {
     "data": {
      "text/plain": [
       "<keras.callbacks.History at 0x270c01ad6d8>"
      ]
     },
     "execution_count": 29,
     "metadata": {},
     "output_type": "execute_result"
    }
   ],
   "source": [
    "DenseNetwork.fit(os_train, os_class, epochs=5, batch_size=16, shuffle=True, validation_data=(os_train, os_class), verbose=1)"
   ]
  },
  {
   "cell_type": "code",
   "execution_count": 30,
   "metadata": {},
   "outputs": [
    {
     "data": {
      "text/html": [
       "<div>\n",
       "<style>\n",
       "    .dataframe thead tr:only-child th {\n",
       "        text-align: right;\n",
       "    }\n",
       "\n",
       "    .dataframe thead th {\n",
       "        text-align: left;\n",
       "    }\n",
       "\n",
       "    .dataframe tbody tr th {\n",
       "        vertical-align: top;\n",
       "    }\n",
       "</style>\n",
       "<table border=\"1\" class=\"dataframe\">\n",
       "  <thead>\n",
       "    <tr style=\"text-align: right;\">\n",
       "      <th></th>\n",
       "      <th>Predicted As Genuine Transactions</th>\n",
       "      <th>Predicted As Fradulent Transactions</th>\n",
       "    </tr>\n",
       "  </thead>\n",
       "  <tbody>\n",
       "    <tr>\n",
       "      <th>Actual Genuine Transactions</th>\n",
       "      <td>113679</td>\n",
       "      <td>45</td>\n",
       "    </tr>\n",
       "    <tr>\n",
       "      <th>Actual Fraudulent Transactions</th>\n",
       "      <td>36</td>\n",
       "      <td>163</td>\n",
       "    </tr>\n",
       "  </tbody>\n",
       "</table>\n",
       "</div>"
      ],
      "text/plain": [
       "                                Predicted As Genuine Transactions  \\\n",
       "Actual Genuine Transactions                                113679   \n",
       "Actual Fraudulent Transactions                                 36   \n",
       "\n",
       "                                Predicted As Fradulent Transactions  \n",
       "Actual Genuine Transactions                                      45  \n",
       "Actual Fraudulent Transactions                                  163  "
      ]
     },
     "execution_count": 30,
     "metadata": {},
     "output_type": "execute_result"
    }
   ],
   "source": [
    "data = data_test.as_matrix()\n",
    "prob_threshold = 0.05\n",
    "\n",
    "predictions_ae = DenseNetwork.predict(data)\n",
    "predictions = DenseNetwork.predict(data)\n",
    "predictions_ae[predictions_ae > prob_threshold] = 1\n",
    "predictions_ae[predictions_ae != 1] = 0\n",
    "cm_ae = confusion_matrix(class_test, predictions_ae)\n",
    "columns = [\"Predicted As Genuine Transactions\", \"Predicted As Fradulent Transactions\"]\n",
    "index = [\"Actual Genuine Transactions\", \"Actual Fraudulent Transactions\"]\n",
    "df_ae = pd.DataFrame(cm_ae, index=index, columns=columns)\n",
    "df_ae"
   ]
  },
  {
   "cell_type": "code",
   "execution_count": 31,
   "metadata": {
    "collapsed": true
   },
   "outputs": [],
   "source": [
    "test_predictions['AEprediction'] = predictions"
   ]
  },
  {
   "cell_type": "code",
   "execution_count": 32,
   "metadata": {
    "collapsed": true
   },
   "outputs": [],
   "source": [
    "ae_predictions =  DenseNetwork.predict(os_train)\n",
    "train_predictions['AEprediction'] = ae_predictions"
   ]
  },
  {
   "cell_type": "markdown",
   "metadata": {},
   "source": [
    "## Ensemble"
   ]
  },
  {
   "cell_type": "code",
   "execution_count": 33,
   "metadata": {},
   "outputs": [
    {
     "name": "stdout",
     "output_type": "stream",
     "text": [
      "Train on 170884 samples, validate on 170884 samples\n",
      "Epoch 1/50\n",
      "170884/170884 [==============================] - 12s - loss: 0.0520 - acc: 0.9982 - val_loss: 0.0154 - val_acc: 0.9983.9 - ETA: 6s - lo\n",
      "Epoch 2/50\n",
      "170884/170884 [==============================] - 11s - loss: 0.0126 - acc: 0.9983 - val_loss: 0.0109 - val_acc: 0.9983\n",
      "Epoch 3/50\n",
      "170884/170884 [==============================] - 12s - loss: 0.0099 - acc: 0.9983 - val_loss: 0.0091 - val_acc: 0.9983\n",
      "Epoch 4/50\n",
      "170884/170884 [==============================] - 11s - loss: 0.0085 - acc: 0.9983 - val_loss: 0.0080 - val_acc: 0.9983\n",
      "Epoch 5/50\n",
      "170884/170884 [==============================] - 12s - loss: 0.0075 - acc: 0.9983 - val_loss: 0.0071 - val_acc: 0.9983\n",
      "Epoch 6/50\n",
      "170884/170884 [==============================] - 11s - loss: 0.0067 - acc: 0.9983 - val_loss: 0.0063 - val_acc: 0.9983\n",
      "Epoch 7/50\n",
      "170884/170884 [==============================] - 12s - loss: 0.0059 - acc: 0.9983 - val_loss: 0.0056 - val_acc: 0.9983.9 - ETA: 6s - loss: 0.006 - ETA: 6s - loss: 0. - E\n",
      "Epoch 8/50\n",
      "170884/170884 [==============================] - 11s - loss: 0.0053 - acc: 0.9983 - val_loss: 0.0050 - val_acc: 0.9983\n",
      "Epoch 9/50\n",
      "170884/170884 [==============================] - 12s - loss: 0.0047 - acc: 0.9983 - val_loss: 0.0045 - val_acc: 0.9983.99 - ETA: 1s - loss: 0.0048 - acc - ETA: 1s - lo\n",
      "Epoch 10/50\n",
      "170884/170884 [==============================] - 11s - loss: 0.0043 - acc: 0.9983 - val_loss: 0.0040 - val_acc: 0.9983\n",
      "Epoch 11/50\n",
      "170884/170884 [==============================] - 11s - loss: 0.0038 - acc: 0.9983 - val_loss: 0.0036 - val_acc: 0.9983s - ETA: - ETA: 0s - loss: 0.0039 - acc: 0.9\n",
      "Epoch 12/50\n",
      "170884/170884 [==============================] - 11s - loss: 0.0035 - acc: 0.9983 - val_loss: 0.0033 - val_acc: 0.9983\n",
      "Epoch 13/50\n",
      "170884/170884 [==============================] - 11s - loss: 0.0032 - acc: 0.9993 - val_loss: 0.0030 - val_acc: 0.9995\n",
      "Epoch 14/50\n",
      "170884/170884 [==============================] - 12s - loss: 0.0029 - acc: 0.9995 - val_loss: 0.0028 - val_acc: 0.9995\n",
      "Epoch 15/50\n",
      "170884/170884 [==============================] - 11s - loss: 0.0027 - acc: 0.9996 - val_loss: 0.0026 - val_acc: 0.9996: 1s - loss: 0.0027 - acc: 0.9 - ETA: 1s - - ETA: 0s - loss: 0.0027 - acc: \n",
      "Epoch 16/50\n",
      "170884/170884 [==============================] - 12s - loss: 0.0025 - acc: 0.9996 - val_loss: 0.0024 - val_acc: 0.9996- loss: 0.0025 -  - ETA: 1s - loss: 0 - ETA: 0s - loss: 0.0025 - acc: 0.99\n",
      "Epoch 17/50\n",
      "170884/170884 [==============================] - 11s - loss: 0.0023 - acc: 0.9996 - val_loss: 0.0022 - val_acc: 0.9996\n",
      "Epoch 18/50\n",
      "170884/170884 [==============================] - 12s - loss: 0.0022 - acc: 0.9996 - val_loss: 0.0021 - val_acc: 0.9996\n",
      "Epoch 19/50\n",
      "170884/170884 [==============================] - 11s - loss: 0.0020 - acc: 0.9996 - val_loss: 0.0020 - val_acc: 0.9996\n",
      "Epoch 20/50\n",
      "170884/170884 [==============================] - 11s - loss: 0.0019 - acc: 0.9996 - val_loss: 0.0019 - val_acc: 0.9996\n",
      "Epoch 21/50\n",
      "170884/170884 [==============================] - 12s - loss: 0.0018 - acc: 0.9996 - val_loss: 0.0018 - val_acc: 0.9996s: 0.0018 \n",
      "Epoch 22/50\n",
      "170884/170884 [==============================] - 11s - loss: 0.0017 - acc: 0.9996 - val_loss: 0.0017 - val_acc: 0.9996 - ETA: 0s - loss: 0.0\n",
      "Epoch 23/50\n",
      "170884/170884 [==============================] - 12s - loss: 0.0016 - acc: 0.9996 - val_loss: 0.0016 - val_acc: 0.9996TA: 5s - loss: 0.0016 - acc: 0.99 - ETA: \n",
      "Epoch 24/50\n",
      "170884/170884 [==============================] - 11s - loss: 0.0016 - acc: 0.9996 - val_loss: 0.0015 - val_acc: 0.9996\n",
      "Epoch 25/50\n",
      "170884/170884 [==============================] - 11s - loss: 0.0015 - acc: 0.9996 - val_loss: 0.0015 - val_acc: 0.9997\n",
      "Epoch 26/50\n",
      "170884/170884 [==============================] - 12s - loss: 0.0014 - acc: 0.9997 - val_loss: 0.0014 - val_acc: 0.9997\n",
      "Epoch 27/50\n",
      "170884/170884 [==============================] - 11s - loss: 0.0014 - acc: 0.9997 - val_loss: 0.0013 - val_acc: 0.9997\n",
      "Epoch 28/50\n",
      "170884/170884 [==============================] - 12s - loss: 0.0013 - acc: 0.9997 - val_loss: 0.0013 - val_acc: 0.9997A: 8 - ETA: 6s  - ETA: 4s -  - ETA: 3s - lo\n",
      "Epoch 29/50\n",
      "170884/170884 [==============================] - 11s - loss: 0.0013 - acc: 0.9997 - val_loss: 0.0012 - val_acc: 0.9997.99\n",
      "Epoch 30/50\n",
      "170884/170884 [==============================] - 12s - loss: 0.0012 - acc: 0.9997 - val_loss: 0.0012 - val_acc: 0.9997 5s - loss: 0.0012 - a - ETA: 5s - loss: 0.0012 - acc - ETA: 4s - loss: 0.0012 - acc:  - ETA: 4s - loss: 0.0012 - ac\n",
      "Epoch 31/50\n",
      "170884/170884 [==============================] - 11s - loss: 0.0012 - acc: 0.9997 - val_loss: 0.0012 - val_acc: 0.9997\n",
      "Epoch 32/50\n",
      "170884/170884 [==============================] - 12s - loss: 0.0011 - acc: 0.9997 - val_loss: 0.0011 - val_acc: 0.9997ETA: 2s - los - ETA: 1s - loss\n",
      "Epoch 33/50\n",
      "170884/170884 [==============================] - 12s - loss: 0.0011 - acc: 0.9997 - val_loss: 0.0011 - val_acc: 0.9997.9 - ETA: 6s - loss: 0.0012 - acc: 0 - ETA: 5s - loss: 0.0012 - acc: 0. - ETA: 1s - loss: - ETA: 0s - loss: 0.0011 - acc: 0.99\n",
      "Epoch 34/50\n",
      "170884/170884 [==============================] - 11s - loss: 0.0011 - acc: 0.9997 - val_loss: 0.0010 - val_acc: 0.9997ETA: 1s - loss: \n",
      "Epoch 35/50\n",
      "170884/170884 [==============================] - 12s - loss: 0.0010 - acc: 0.9997 - val_loss: 0.0010 - val_acc: 0.9997A - ETA: 0s - loss: 0.0010 \n",
      "Epoch 36/50\n",
      "170884/170884 [==============================] - 11s - loss: 9.9868e-04 - acc: 0.9997 - val_loss: 9.8355e-04 - val_acc: 0.9997 - acc: 0.\n",
      "Epoch 37/50\n",
      "170884/170884 [==============================] - 12s - loss: 9.6908e-04 - acc: 0.9997 - val_loss: 9.5457e-04 - val_acc: 0.9997\n",
      "Epoch 38/50\n",
      "170884/170884 [==============================] - 11s - loss: 9.4086e-04 - acc: 0.9997 - val_loss: 9.2744e-04 - val_acc: 0.999778e-04 - acc: 0.99 - ETA: 2s - loss: 9.6815e-04 - acc:  - ETA: 1s - loss: 9. - ETA: 0s - loss: 9.5046e-04\n",
      "Epoch 39/50\n",
      "170884/170884 [==============================] - 11s - loss: 9.1475e-04 - acc: 0.9997 - val_loss: 9.0203e-04 - val_acc: 0.9997\n",
      "Epoch 40/50\n",
      "170884/170884 [==============================] - 12s - loss: 8.8984e-04 - acc: 0.9998 - val_loss: 8.7763e-04 - val_acc: 0.9998\n",
      "Epoch 41/50\n",
      "170884/170884 [==============================] - 11s - loss: 8.6591e-04 - acc: 0.9998 - val_loss: 8.5417e-04 - val_acc: 0.9998: 5s - loss: - ETA: 4s - loss: 9.0217e-04 - acc: 0.999 - ETA: 4 - ETA: 2s - loss: 8 - ETA: 1s - loss: 8.6829e-04 - acc: 0 - ETA: 0s - loss: 8.6749e-0\n",
      "Epoch 42/50\n",
      "170884/170884 [==============================] - 12s - loss: 8.4345e-04 - acc: 1.0000 - val_loss: 8.3268e-04 - val_acc: 1.0000 - ETA: 6s - loss: 8.8260e-04 - acc: 1.00 - ETA: 5s - loss: 8.6415e-0 - ETA: 2s - loss: 8.1848\n",
      "Epoch 43/50\n",
      "170884/170884 [==============================] - 12s - loss: 8.2237e-04 - acc: 1.0000 - val_loss: 8.1200e-04 - val_acc: 1.0000\n",
      "Epoch 44/50\n",
      "170884/170884 [==============================] - 11s - loss: 8.0205e-04 - acc: 1.0000 - val_loss: 7.9205e-04 - val_acc: 1.0000\n",
      "Epoch 45/50\n",
      "170884/170884 [==============================] - 12s - loss: 7.8243e-04 - acc: 1.0000 - val_loss: 7.7278e-04 - val_acc: 1.0000 - loss - ETA: 2s - loss: 8.0337e-04 - acc:  - ETA: 2s - loss: 7.9258e-04 - acc: 1 - E\n",
      "Epoch 46/50\n",
      "170884/170884 [==============================] - 12s - loss: 7.6385e-04 - acc: 1.0000 - val_loss: 7.5502e-04 - val_acc: 1.0000\n",
      "Epoch 47/50\n",
      "170884/170884 [==============================] - 12s - loss: 7.4655e-04 - acc: 1.0000 - val_loss: 7.3803e-04 - val_acc: 1.0000A: 4s - ETA: 2s - loss - ETA: 1s - loss: 7.50\n",
      "Epoch 48/50\n",
      "170884/170884 [==============================] - 11s - loss: 7.2984e-04 - acc: 1.0000 - val_loss: 7.2158e-04 - val_acc: 1.00005e-04 - acc\n",
      "Epoch 49/50\n",
      "170884/170884 [==============================] - 12s - loss: 7.1365e-04 - acc: 1.0000 - val_loss: 7.0566e-04 - val_acc: 1.0000-04 - a - ETA: 2s - loss: 7.0334e - ETA: 1s -\n",
      "Epoch 50/50\n",
      "170884/170884 [==============================] - 11s - loss: 6.9798e-04 - acc: 1.0000 - val_loss: 6.9024e-04 - val_acc: 1.0000\n"
     ]
    },
    {
     "data": {
      "text/plain": [
       "<keras.callbacks.History at 0x2709c1d5cf8>"
      ]
     },
     "execution_count": 33,
     "metadata": {},
     "output_type": "execute_result"
    }
   ],
   "source": [
    "train_predictions_matrix = train_predictions.as_matrix()\n",
    "\n",
    "\n",
    "Ensemble = Sequential([\n",
    "        Dense(1, input_shape=(3,)),\n",
    "        Activation('sigmoid'),\n",
    "    ])\n",
    "\n",
    "Ensemble.compile(optimizer='sgd', loss='binary_crossentropy', metrics=['accuracy'])\n",
    "\n",
    "classifier_checkpointer = ModelCheckpoint(filepath=\"Classifier\", verbose=0, save_best_only=True)\n",
    "tensorboard = TensorBoard(log_dir='./logs', histogram_freq=0, write_graph=True, write_images=True)\n",
    "Ensemble.fit(train_predictions_matrix, os_class, epochs=50, batch_size=16, shuffle=True,\n",
    "             validation_data=(train_predictions_matrix, os_class), verbose=1,\n",
    "             callbacks=[classifier_checkpointer, tensorboard])"
   ]
  },
  {
   "cell_type": "code",
   "execution_count": 34,
   "metadata": {},
   "outputs": [
    {
     "data": {
      "text/html": [
       "<div>\n",
       "<style>\n",
       "    .dataframe thead tr:only-child th {\n",
       "        text-align: right;\n",
       "    }\n",
       "\n",
       "    .dataframe thead th {\n",
       "        text-align: left;\n",
       "    }\n",
       "\n",
       "    .dataframe tbody tr th {\n",
       "        vertical-align: top;\n",
       "    }\n",
       "</style>\n",
       "<table border=\"1\" class=\"dataframe\">\n",
       "  <thead>\n",
       "    <tr style=\"text-align: right;\">\n",
       "      <th></th>\n",
       "      <th>Predicted As Genuine Transactions</th>\n",
       "      <th>Predicted As Fradulent Transactions</th>\n",
       "    </tr>\n",
       "  </thead>\n",
       "  <tbody>\n",
       "    <tr>\n",
       "      <th>Actual Genuine Transactions</th>\n",
       "      <td>113707</td>\n",
       "      <td>17</td>\n",
       "    </tr>\n",
       "    <tr>\n",
       "      <th>Actual Fraudulent Transactions</th>\n",
       "      <td>34</td>\n",
       "      <td>165</td>\n",
       "    </tr>\n",
       "  </tbody>\n",
       "</table>\n",
       "</div>"
      ],
      "text/plain": [
       "                                Predicted As Genuine Transactions  \\\n",
       "Actual Genuine Transactions                                113707   \n",
       "Actual Fraudulent Transactions                                 34   \n",
       "\n",
       "                                Predicted As Fradulent Transactions  \n",
       "Actual Genuine Transactions                                      17  \n",
       "Actual Fraudulent Transactions                                  165  "
      ]
     },
     "execution_count": 34,
     "metadata": {},
     "output_type": "execute_result"
    }
   ],
   "source": [
    "test_predictions_matrix = test_predictions.as_matrix()\n",
    "prob_threshold = 0.5\n",
    "predictions = Ensemble.predict(test_predictions_matrix)\n",
    "predictions[predictions > prob_threshold] = 1\n",
    "predictions[predictions != 1] = 0\n",
    "cm = confusion_matrix(class_test, predictions)\n",
    "columns = [\"Predicted As Genuine Transactions\", \"Predicted As Fradulent Transactions\"]\n",
    "index = [\"Actual Genuine Transactions\", \"Actual Fraudulent Transactions\"]\n",
    "df_ensemble = pd.DataFrame(cm, index=index, columns=columns)\n",
    "df_ensemble"
   ]
  }
 ],
 "metadata": {
  "kernelspec": {
   "display_name": "Python 3",
   "language": "python",
   "name": "python3"
  },
  "language_info": {
   "codemirror_mode": {
    "name": "ipython",
    "version": 3
   },
   "file_extension": ".py",
   "mimetype": "text/x-python",
   "name": "python",
   "nbconvert_exporter": "python",
   "pygments_lexer": "ipython3",
   "version": "3.6.2"
  }
 },
 "nbformat": 4,
 "nbformat_minor": 2
}
