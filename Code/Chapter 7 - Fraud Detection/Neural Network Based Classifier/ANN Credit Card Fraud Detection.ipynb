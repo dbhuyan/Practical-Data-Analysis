{
 "cells": [
  {
   "cell_type": "code",
   "execution_count": 1,
   "metadata": {
    "collapsed": true
   },
   "outputs": [],
   "source": [
    "import numpy as np\n",
    "import pandas as pd\n",
    "from sklearn.model_selection import train_test_split\n",
    "\n",
    "df = pd.read_csv(\"creditcardfraud/creditcard.csv\")"
   ]
  },
  {
   "cell_type": "code",
   "execution_count": 2,
   "metadata": {
    "collapsed": true
   },
   "outputs": [],
   "source": [
    "df_class = df[\"Class\"]\n",
    "df = df.drop(\"Class\", axis=1)\n",
    "df = df.drop(\"Time\", axis=1)\n",
    "df = df.drop(\"Amount\", axis=1)"
   ]
  },
  {
   "cell_type": "code",
   "execution_count": 3,
   "metadata": {
    "collapsed": true
   },
   "outputs": [],
   "source": [
    "data_train, data_test, class_train, class_test = train_test_split(df, df_class, test_size=0.4, random_state=0)"
   ]
  },
  {
   "cell_type": "code",
   "execution_count": 4,
   "metadata": {
    "collapsed": true
   },
   "outputs": [],
   "source": [
    "os_train = data_train.as_matrix()\n",
    "os_class = class_train.as_matrix()"
   ]
  },
  {
   "cell_type": "code",
   "execution_count": 5,
   "metadata": {},
   "outputs": [
    {
     "name": "stderr",
     "output_type": "stream",
     "text": [
      "Using TensorFlow backend.\n"
     ]
    },
    {
     "name": "stdout",
     "output_type": "stream",
     "text": [
      "Train on 170884 samples, validate on 170884 samples\n",
      "Epoch 1/20\n",
      "170884/170884 [==============================] - 55s - loss: 0.0155 - acc: 0.9984 - val_loss: 0.0053 - val_acc: 0.9993\n",
      "Epoch 2/20\n",
      "170884/170884 [==============================] - 56s - loss: 0.0050 - acc: 0.9992 - val_loss: 0.0037 - val_acc: 0.9994\n",
      "Epoch 3/20\n",
      "170884/170884 [==============================] - 55s - loss: 0.0038 - acc: 0.9992 - val_loss: 0.0035 - val_acc: 0.9994\n",
      "Epoch 4/20\n",
      "170884/170884 [==============================] - 56s - loss: 0.0036 - acc: 0.9993 - val_loss: 0.0032 - val_acc: 0.9994\n",
      "Epoch 5/20\n",
      "170884/170884 [==============================] - 56s - loss: 0.0036 - acc: 0.9993 - val_loss: 0.0031 - val_acc: 0.9994\n",
      "Epoch 6/20\n",
      "170884/170884 [==============================] - 56s - loss: 0.0033 - acc: 0.9993 - val_loss: 0.0031 - val_acc: 0.9994\n",
      "Epoch 7/20\n",
      "170884/170884 [==============================] - 56s - loss: 0.0031 - acc: 0.9993 - val_loss: 0.0028 - val_acc: 0.9994\n",
      "Epoch 8/20\n",
      "170884/170884 [==============================] - 56s - loss: 0.0031 - acc: 0.9994 - val_loss: 0.0029 - val_acc: 0.9994\n",
      "Epoch 9/20\n",
      "170884/170884 [==============================] - 56s - loss: 0.0029 - acc: 0.9994 - val_loss: 0.0029 - val_acc: 0.9994\n",
      "Epoch 10/20\n",
      "170884/170884 [==============================] - 56s - loss: 0.0030 - acc: 0.9994 - val_loss: 0.0026 - val_acc: 0.9994\n",
      "Epoch 11/20\n",
      "170884/170884 [==============================] - 56s - loss: 0.0031 - acc: 0.9993 - val_loss: 0.0025 - val_acc: 0.9994\n",
      "Epoch 12/20\n",
      "170884/170884 [==============================] - 56s - loss: 0.0029 - acc: 0.9993 - val_loss: 0.0024 - val_acc: 0.9995\n",
      "Epoch 13/20\n",
      "170884/170884 [==============================] - 56s - loss: 0.0028 - acc: 0.9994 - val_loss: 0.0024 - val_acc: 0.9995\n",
      "Epoch 14/20\n",
      "170884/170884 [==============================] - 56s - loss: 0.0027 - acc: 0.9994 - val_loss: 0.0025 - val_acc: 0.9994\n",
      "Epoch 15/20\n",
      "170884/170884 [==============================] - 56s - loss: 0.0028 - acc: 0.9994 - val_loss: 0.0024 - val_acc: 0.9994\n",
      "Epoch 16/20\n",
      "170884/170884 [==============================] - 55s - loss: 0.0027 - acc: 0.9994 - val_loss: 0.0023 - val_acc: 0.9994\n",
      "Epoch 17/20\n",
      "170884/170884 [==============================] - 57s - loss: 0.0026 - acc: 0.9994 - val_loss: 0.0023 - val_acc: 0.9994\n",
      "Epoch 18/20\n",
      "170884/170884 [==============================] - 55s - loss: 0.0026 - acc: 0.9994 - val_loss: 0.0023 - val_acc: 0.9995\n",
      "Epoch 19/20\n",
      "170884/170884 [==============================] - 57s - loss: 0.0026 - acc: 0.9994 - val_loss: 0.0022 - val_acc: 0.9995.999\n",
      "Epoch 20/20\n",
      "170884/170884 [==============================] - 56s - loss: 0.0025 - acc: 0.9995 - val_loss: 0.0022 - val_acc: 0.9995\n"
     ]
    },
    {
     "data": {
      "text/plain": [
       "<keras.callbacks.History at 0x1b373f240f0>"
      ]
     },
     "execution_count": 5,
     "metadata": {},
     "output_type": "execute_result"
    }
   ],
   "source": [
    "from keras.models import Sequential\n",
    "from keras.layers import Dense, Activation, Dropout\n",
    "from sklearn.utils import class_weight\n",
    "\n",
    "np.random.seed(0)\n",
    "\n",
    "class_weight = class_weight.compute_class_weight('balanced', np.unique(os_class), os_class)\n",
    "\n",
    "Classifier = Sequential([\n",
    "        Dense(448, input_shape=(28,)),\n",
    "        Activation('relu'),\n",
    "        Dropout(0.5),\n",
    "        Dense(896),\n",
    "        Activation('relu'),\n",
    "        Dropout(0.5),\n",
    "        Dense(1),\n",
    "        Activation('sigmoid')\n",
    "    ])\n",
    "\n",
    "Classifier.compile(optimizer='sgd', loss='binary_crossentropy', metrics=['accuracy'])\n",
    "Classifier.fit(os_train, os_class, epochs=20, batch_size=16, shuffle=True, validation_data=(os_train, os_class),\n",
    "                      class_weight=class_weight, verbose=1)"
   ]
  },
  {
   "cell_type": "code",
   "execution_count": 6,
   "metadata": {
    "collapsed": true
   },
   "outputs": [],
   "source": [
    "data = data_test.as_matrix()\n",
    "from IPython.display import display\n",
    "from sklearn.metrics import confusion_matrix\n",
    "\n",
    "def exploration(prob_threshold):\n",
    "    predictions_prob = Classifier.predict(data)\n",
    "    predictions_prob[predictions_prob >= prob_threshold] = 1\n",
    "    predictions_prob[predictions_prob != 1] = 0\n",
    "    cm = confusion_matrix(class_test, predictions_prob)\n",
    "    columns = [\"Predicted As Genuine Transactions\", \"Predicted As Fradulent Transactions\"]\n",
    "    index = [\"Actual Genuine Transactions\", \"Actual Fraudulent Transactions\"]\n",
    "    df_cm = pd.DataFrame(cm, index=index, columns=columns)\n",
    "    display(df_cm)\n",
    "    return"
   ]
  },
  {
   "cell_type": "code",
   "execution_count": 7,
   "metadata": {},
   "outputs": [
    {
     "data": {
      "text/html": [
       "<div>\n",
       "<style>\n",
       "    .dataframe thead tr:only-child th {\n",
       "        text-align: right;\n",
       "    }\n",
       "\n",
       "    .dataframe thead th {\n",
       "        text-align: left;\n",
       "    }\n",
       "\n",
       "    .dataframe tbody tr th {\n",
       "        vertical-align: top;\n",
       "    }\n",
       "</style>\n",
       "<table border=\"1\" class=\"dataframe\">\n",
       "  <thead>\n",
       "    <tr style=\"text-align: right;\">\n",
       "      <th></th>\n",
       "      <th>Predicted As Genuine Transactions</th>\n",
       "      <th>Predicted As Fradulent Transactions</th>\n",
       "    </tr>\n",
       "  </thead>\n",
       "  <tbody>\n",
       "    <tr>\n",
       "      <th>Actual Genuine Transactions</th>\n",
       "      <td>113698</td>\n",
       "      <td>26</td>\n",
       "    </tr>\n",
       "    <tr>\n",
       "      <th>Actual Fraudulent Transactions</th>\n",
       "      <td>38</td>\n",
       "      <td>161</td>\n",
       "    </tr>\n",
       "  </tbody>\n",
       "</table>\n",
       "</div>"
      ],
      "text/plain": [
       "                                Predicted As Genuine Transactions  \\\n",
       "Actual Genuine Transactions                                113698   \n",
       "Actual Fraudulent Transactions                                 38   \n",
       "\n",
       "                                Predicted As Fradulent Transactions  \n",
       "Actual Genuine Transactions                                      26  \n",
       "Actual Fraudulent Transactions                                  161  "
      ]
     },
     "metadata": {},
     "output_type": "display_data"
    }
   ],
   "source": [
    "exploration(0.5)"
   ]
  },
  {
   "cell_type": "code",
   "execution_count": 9,
   "metadata": {},
   "outputs": [
    {
     "data": {
      "text/html": [
       "<div>\n",
       "<style>\n",
       "    .dataframe thead tr:only-child th {\n",
       "        text-align: right;\n",
       "    }\n",
       "\n",
       "    .dataframe thead th {\n",
       "        text-align: left;\n",
       "    }\n",
       "\n",
       "    .dataframe tbody tr th {\n",
       "        vertical-align: top;\n",
       "    }\n",
       "</style>\n",
       "<table border=\"1\" class=\"dataframe\">\n",
       "  <thead>\n",
       "    <tr style=\"text-align: right;\">\n",
       "      <th></th>\n",
       "      <th>Predicted As Genuine Transactions</th>\n",
       "      <th>Predicted As Fradulent Transactions</th>\n",
       "    </tr>\n",
       "  </thead>\n",
       "  <tbody>\n",
       "    <tr>\n",
       "      <th>Actual Genuine Transactions</th>\n",
       "      <td>113684</td>\n",
       "      <td>40</td>\n",
       "    </tr>\n",
       "    <tr>\n",
       "      <th>Actual Fraudulent Transactions</th>\n",
       "      <td>34</td>\n",
       "      <td>165</td>\n",
       "    </tr>\n",
       "  </tbody>\n",
       "</table>\n",
       "</div>"
      ],
      "text/plain": [
       "                                Predicted As Genuine Transactions  \\\n",
       "Actual Genuine Transactions                                113684   \n",
       "Actual Fraudulent Transactions                                 34   \n",
       "\n",
       "                                Predicted As Fradulent Transactions  \n",
       "Actual Genuine Transactions                                      40  \n",
       "Actual Fraudulent Transactions                                  165  "
      ]
     },
     "metadata": {},
     "output_type": "display_data"
    }
   ],
   "source": [
    "exploration(0.3)"
   ]
  }
 ],
 "metadata": {
  "kernelspec": {
   "display_name": "Python 3",
   "language": "python",
   "name": "python3"
  },
  "language_info": {
   "codemirror_mode": {
    "name": "ipython",
    "version": 3
   },
   "file_extension": ".py",
   "mimetype": "text/x-python",
   "name": "python",
   "nbconvert_exporter": "python",
   "pygments_lexer": "ipython3",
   "version": "3.6.2"
  }
 },
 "nbformat": 4,
 "nbformat_minor": 2
}
