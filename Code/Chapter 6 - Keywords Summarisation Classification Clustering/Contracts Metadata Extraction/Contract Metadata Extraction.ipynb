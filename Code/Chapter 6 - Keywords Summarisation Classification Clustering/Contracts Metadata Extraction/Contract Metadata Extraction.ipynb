{
 "cells": [
  {
   "cell_type": "markdown",
   "metadata": {},
   "source": [
    "The LexHacks 2015 Hackathon - extract the following contract metadata:\n",
    "\n",
    "- Parties to an agreement.  For example, in an employment agreement, these parties might be the employer and employee; in a credit agreement, they might be one or more creditors and a debtor.\n",
    "\n",
    "- Effective and termination clauses and dates.  These are the dates that govern the beginning, and, in some cases, the end of a contract.  While they are often explicit calendar dates, they may sometimes be specified as general, contingent language.\n",
    "    \n",
    "https://www.lexpredict.com/2015/06/04/chicago-lexhacks-2015-challenge-extracting-simple-contract-metadata/\n",
    "\n",
    "\n",
    "Winning submission:\n",
    "https://github.com/edwardbryant/lexhacks-contract-reader\n",
    "\n",
    "BUT there must be a simpler way to extract contract metadata using Named Entity Recognisition techniques."
   ]
  },
  {
   "cell_type": "code",
   "execution_count": 1,
   "metadata": {
    "collapsed": true
   },
   "outputs": [],
   "source": [
    "import spacy\n",
    "import re\n",
    "\n",
    "nlp = spacy.load('en')\n",
    "\n",
    "def cleanUp(text):\n",
    "    text = text.replace('\"', '')\n",
    "    text = re.sub('\\([^)]*\\)','', text)\n",
    "    return text\n",
    "\n",
    "def stopList(entity):\n",
    "    stoplist = ['agreement', 'guarantee', 'guarantor', 'lender']\n",
    "    entity = entity.lower()\n",
    "    if any(word in entity for word in stoplist):\n",
    "        return True\n",
    "    else:\n",
    "        return False\n",
    "\n",
    "def extractContractMetadata(contract):\n",
    "    cleanContract = cleanUp(contract)\n",
    "    parsedContract = nlp(cleanContract)\n",
    "    \n",
    "    for entity in parsedContract.ents:\n",
    "        if (entity.label_ == 'DATE'):\n",
    "            print(\"Date - %s\" % entity.text)\n",
    "\n",
    "        if ((entity.label_ == 'PERSON') or (entity.label_ == 'ORG')):\n",
    "            if (stopList(entity.text) == False):\n",
    "                print(\"Party to agreement - %s\" % entity.text)    \n",
    "    return"
   ]
  },
  {
   "cell_type": "code",
   "execution_count": 2,
   "metadata": {},
   "outputs": [
    {
     "name": "stdout",
     "output_type": "stream",
     "text": [
      "Date - September 30, 2008\n",
      "Party to agreement - FREIGHTCAR AMERICA\n",
      "Party to agreement - BANK OF AMERICA, N.A.\n"
     ]
    }
   ],
   "source": [
    "contract = \"THIS GUARANTEE AGREEMENT dated as of September 30, 2008 (this \\\"Guarantee\\\") is entered into by FREIGHTCAR AMERICA, INC., a Delaware corporation (the \\\"Guarantor\\\"), in favor of BANK OF AMERICA, N.A., a national banking association, as the administrative agent (in such capacity, the \\\"Administrative Agent\\\") for certain financial institutions (each a \\\"Lender\\\", and collectively the \\\"Lenders\\\") from time to time party to the Credit Agreement (defined below).\"\n",
    "extractContractMetadata(contract)"
   ]
  },
  {
   "cell_type": "code",
   "execution_count": 3,
   "metadata": {},
   "outputs": [
    {
     "name": "stdout",
     "output_type": "stream",
     "text": [
      "Date - 01 August 2017\n",
      "Party to agreement - Bank of Afghanistan\n",
      "Party to agreement - Bank of Kabul\n"
     ]
    }
   ],
   "source": [
    "contract = \"THIS AGREEMENT is made on 01 August 2017 between Bank of Afghanistan, (\\\"the Lender\\\") AND Bank of Kabul, (\\\"the Borrower\\\")\"\n",
    "extractContractMetadata(contract)"
   ]
  }
 ],
 "metadata": {
  "kernelspec": {
   "display_name": "Python 3",
   "language": "python",
   "name": "python3"
  },
  "language_info": {
   "codemirror_mode": {
    "name": "ipython",
    "version": 3
   },
   "file_extension": ".py",
   "mimetype": "text/x-python",
   "name": "python",
   "nbconvert_exporter": "python",
   "pygments_lexer": "ipython3",
   "version": "3.6.2"
  }
 },
 "nbformat": 4,
 "nbformat_minor": 2
}
