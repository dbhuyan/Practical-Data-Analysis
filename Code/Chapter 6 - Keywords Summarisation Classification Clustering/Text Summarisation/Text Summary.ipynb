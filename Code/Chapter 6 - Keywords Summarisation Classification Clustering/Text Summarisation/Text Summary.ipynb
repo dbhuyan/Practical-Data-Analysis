{
 "cells": [
  {
   "cell_type": "markdown",
   "metadata": {},
   "source": [
    "Summarise the following speechs given by Winston Churchill\n",
    "\n",
    "(Using Gensim & Centroid based summarisation approach)\n",
    "\n",
    "1. \"Invasion of France\" - https://www.nationalchurchillmuseum.org/the-invasion-of-france.html\n",
    "2. \"The Council of Europe\" - https://www.nationalchurchillmuseum.org/the-council-of-europe.html\n",
    "\n",
    "The centroid based approach uses the code provided by the author of the paper - \"Centroid-based Text Summarization through Compositionality of Word Embeddings\". See original code in the link below -\n",
    "\n",
    "https://github.com/gaetangate/text-summarizer"
   ]
  },
  {
   "cell_type": "code",
   "execution_count": 1,
   "metadata": {},
   "outputs": [
    {
     "name": "stderr",
     "output_type": "stream",
     "text": [
      "C:\\ProgramData\\Anaconda3\\lib\\site-packages\\gensim\\utils.py:865: UserWarning: detected Windows; aliasing chunkize to chunkize_serial\n",
      "  warnings.warn(\"detected Windows; aliasing chunkize to chunkize_serial\")\n"
     ]
    }
   ],
   "source": [
    "from gensim.summarization import summarize\n",
    "import centroid_w2v as cw2v\n",
    "\n",
    "model = 'D:/Google/GoogleNews-vectors-negative300.bin.gz'\n",
    "\n",
    "def gensimSummary(filename):\n",
    "    file = open(filename, \"r\")\n",
    "    text = file.read()\n",
    "\n",
    "    textSummary = summarize(text, ratio=0.05)\n",
    "    print(\"Gensim Summary:\\n\", textSummary)\n",
    "    \n",
    "    return\n",
    "\n",
    "def centroidW2VSummary(filename):\n",
    "    file = open(filename, \"r\")\n",
    "    text = file.read()\n",
    "\n",
    "    summarizer = cw2v.CentroidW2VSummarizer(word2vec_model_path=model, length_limit=20)\n",
    "    summary = summarizer.summarize(text=text)\n",
    "\n",
    "    print(\"CentroidW2V Summary:\\n\", summary)\n",
    "    return"
   ]
  },
  {
   "cell_type": "code",
   "execution_count": 2,
   "metadata": {},
   "outputs": [
    {
     "name": "stdout",
     "output_type": "stream",
     "text": [
      "Gensim Summary:\n",
      " On May 11th, General Alexander began his present operation, and after unceasing and intense fighting by the whole of the Armies, broke into the enemy's lines and entered the Liri Valley.\n",
      "The American and other Forces of the Fifth Army broke through the enemy's last line and entered Rome, where the Allied troops have been received with joy by the population.\n",
      "In General Clark the United States Army has found a fighting leader of the highest order, and the qualities of all Allied troops have shone in noble and unjealous rivalry.\n"
     ]
    }
   ],
   "source": [
    "gensimSummary(\"WinstonChurchillSpeech-1.txt\")"
   ]
  },
  {
   "cell_type": "code",
   "execution_count": 3,
   "metadata": {},
   "outputs": [
    {
     "name": "stdout",
     "output_type": "stream",
     "text": [
      "CentroidW2V Summary:\n",
      " On May 11th, General Alexander began his present operation, and after unceasing and intense fighting by the whole of the Armies, broke into the enemy's lines and entered the Liri Valley.\n",
      "The junction of the main Armies with the bridgehead forces drove the enemy off his principal lines of retreat to the North, forcing a great part of his army to retire in considerable disorder with heavy losses, especially in material, through mountainous country.\n",
      "But all this, although a very valuable first step-a vital and essential first step-gives no indication of what may be the course of the battle in the next days and weeks, because the enemy will now probably endeavour to concentrate on this area, and in that event heavy fighting will soon begin and will continue without end, as we can push troops in and he can bring other troops up.\n"
     ]
    }
   ],
   "source": [
    "centroidW2VSummary(\"WinstonChurchillSpeech-1.txt\")"
   ]
  },
  {
   "cell_type": "code",
   "execution_count": 4,
   "metadata": {},
   "outputs": [
    {
     "name": "stdout",
     "output_type": "stream",
     "text": [
      "Gensim Summary:\n",
      " I hope that in due course these Continental units will be represented in the world organization collectively, rather than by individual States as in the present system, and that we shall be able to settle a great mass of our problems among ourselves in Europe before they are brought, or instead of them being brought, to the world council for decision.\n",
      "There is an urgency about this, because once the foundation of Human Rights is agreed on the lines of the decisions of the United Nations at Geneva- but I trust in much shorter form- we hope that a European Court might be set up, before which cases of the violation of these rights in our own body of twelve nations might be brought to the judgment of the civilized world.\n",
      "When we meet in the Extraordinary Session - if one is grated - in December or January next, it is my hope that we shall find ourselves already joined a German delegation similar to that of other Member States; but if this cannot be done then will be the time for us to debate the issue in full freedom.\n"
     ]
    }
   ],
   "source": [
    "gensimSummary(\"WinstonChurchillSpeech-2.txt\")"
   ]
  },
  {
   "cell_type": "code",
   "execution_count": 5,
   "metadata": {},
   "outputs": [
    {
     "name": "stdout",
     "output_type": "stream",
     "text": [
      "CentroidW2V Summary:\n",
      " I hope that in due course these Continental units will be represented in the world organization collectively, rather than by individual States as in the present system, and that we shall be able to settle a great mass of our problems among ourselves in Europe before they are brought, or instead of them being brought, to the world council for decision.\n",
      "We should, however, do our utmost to secure that these national Parliaments examine and let us know their views upon any Recommendation on European problems that we may make.\n",
      "When we meet in the Extraordinary Session - if one is grated - in December or January next, it is my hope that we shall find ourselves already joined a German delegation similar to that of other Member States; but if this cannot be done then will be the time for us to debate the issue in full freedom.\n"
     ]
    }
   ],
   "source": [
    "centroidW2VSummary(\"WinstonChurchillSpeech-2.txt\")"
   ]
  }
 ],
 "metadata": {
  "kernelspec": {
   "display_name": "Python 3",
   "language": "python",
   "name": "python3"
  },
  "language_info": {
   "codemirror_mode": {
    "name": "ipython",
    "version": 3
   },
   "file_extension": ".py",
   "mimetype": "text/x-python",
   "name": "python",
   "nbconvert_exporter": "python",
   "pygments_lexer": "ipython3",
   "version": "3.6.2"
  }
 },
 "nbformat": 4,
 "nbformat_minor": 2
}
