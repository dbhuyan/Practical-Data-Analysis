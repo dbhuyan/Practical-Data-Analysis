{
 "cells": [
  {
   "cell_type": "markdown",
   "metadata": {},
   "source": [
    "Load Google's pre-trained Word2Vec model.\n",
    "\n",
    "https://code.google.com/archive/p/word2vec/"
   ]
  },
  {
   "cell_type": "code",
   "execution_count": 1,
   "metadata": {},
   "outputs": [
    {
     "name": "stderr",
     "output_type": "stream",
     "text": [
      "C:\\ProgramData\\Anaconda3\\lib\\site-packages\\gensim\\utils.py:865: UserWarning: detected Windows; aliasing chunkize to chunkize_serial\n",
      "  warnings.warn(\"detected Windows; aliasing chunkize to chunkize_serial\")\n"
     ]
    }
   ],
   "source": [
    "import gensim\n",
    "\n",
    "model = gensim.models.KeyedVectors.load_word2vec_format('D:/Google/GoogleNews-vectors-negative300.bin.gz', binary=True)  "
   ]
  },
  {
   "cell_type": "code",
   "execution_count": 2,
   "metadata": {},
   "outputs": [
    {
     "name": "stdout",
     "output_type": "stream",
     "text": [
      "Number of word vectors -  3000000\n"
     ]
    }
   ],
   "source": [
    "vocab = list(model.vocab.keys())\n",
    "print(\"Number of word vectors - \", len(vocab))"
   ]
  },
  {
   "cell_type": "code",
   "execution_count": 3,
   "metadata": {},
   "outputs": [
    {
     "data": {
      "text/plain": [
       "array([  1.07421875e-01,  -2.01171875e-01,   1.23046875e-01,\n",
       "         2.11914062e-01,  -9.13085938e-02,   2.16796875e-01,\n",
       "        -1.31835938e-01,   8.30078125e-02,   2.02148438e-01,\n",
       "         4.78515625e-02,   3.66210938e-02,  -2.45361328e-02,\n",
       "         2.39257812e-02,  -1.60156250e-01,  -2.61230469e-02,\n",
       "         9.71679688e-02,  -6.34765625e-02,   1.84570312e-01,\n",
       "         1.70898438e-01,  -1.63085938e-01,  -1.09375000e-01,\n",
       "         1.49414062e-01,  -4.65393066e-04,   9.61914062e-02,\n",
       "         1.68945312e-01,   2.60925293e-03,   8.93554688e-02,\n",
       "         6.49414062e-02,   3.56445312e-02,  -6.93359375e-02,\n",
       "        -1.46484375e-01,  -1.21093750e-01,  -2.27539062e-01,\n",
       "         2.45361328e-02,  -1.24511719e-01,  -3.18359375e-01,\n",
       "        -2.20703125e-01,   1.30859375e-01,   3.66210938e-02,\n",
       "        -3.63769531e-02,  -1.13281250e-01,   1.95312500e-01,\n",
       "         9.76562500e-02,   1.26953125e-01,   6.59179688e-02,\n",
       "         6.93359375e-02,   1.02539062e-02,   1.75781250e-01,\n",
       "        -1.68945312e-01,   1.21307373e-03,  -2.98828125e-01,\n",
       "        -1.15234375e-01,   5.66406250e-02,  -1.77734375e-01,\n",
       "        -2.08984375e-01,   1.76757812e-01,   2.38037109e-02,\n",
       "        -2.57812500e-01,  -4.46777344e-02,   1.88476562e-01,\n",
       "         5.51757812e-02,   5.02929688e-02,  -1.06933594e-01,\n",
       "         1.89453125e-01,  -1.16210938e-01,   8.49609375e-02,\n",
       "        -1.71875000e-01,   2.45117188e-01,  -1.73828125e-01,\n",
       "        -8.30078125e-03,   4.56542969e-02,  -1.61132812e-02,\n",
       "         1.86523438e-01,  -6.05468750e-02,  -4.17480469e-02,\n",
       "         1.82617188e-01,   2.20703125e-01,  -1.22558594e-01,\n",
       "        -2.55126953e-02,  -3.08593750e-01,   9.13085938e-02,\n",
       "         1.60156250e-01,   1.70898438e-01,   1.19628906e-01,\n",
       "         7.08007812e-02,  -2.64892578e-02,  -3.08837891e-02,\n",
       "         4.06250000e-01,  -1.01562500e-01,   5.71289062e-02,\n",
       "        -7.26318359e-03,  -9.17968750e-02,  -1.50390625e-01,\n",
       "        -2.55859375e-01,   2.16796875e-01,  -3.63769531e-02,\n",
       "         2.24609375e-01,   8.00781250e-02,   1.56250000e-01,\n",
       "         5.27343750e-02,   1.50390625e-01,  -1.14746094e-01,\n",
       "        -8.64257812e-02,   1.19140625e-01,  -7.17773438e-02,\n",
       "         2.73437500e-01,  -1.64062500e-01,   7.29370117e-03,\n",
       "         4.21875000e-01,  -1.12792969e-01,  -1.35742188e-01,\n",
       "        -1.31835938e-01,  -1.37695312e-01,  -7.66601562e-02,\n",
       "         6.25000000e-02,   4.98046875e-02,  -1.91406250e-01,\n",
       "        -6.03027344e-02,   2.27539062e-01,   5.88378906e-02,\n",
       "        -3.24218750e-01,   5.41992188e-02,  -1.35742188e-01,\n",
       "         8.17871094e-03,  -5.24902344e-02,  -1.74713135e-03,\n",
       "        -9.81445312e-02,  -2.86865234e-02,   3.61328125e-02,\n",
       "         2.15820312e-01,   5.98144531e-02,  -3.08593750e-01,\n",
       "        -2.27539062e-01,   2.61718750e-01,   9.86328125e-02,\n",
       "        -5.07812500e-02,   1.78222656e-02,   1.31835938e-01,\n",
       "        -5.35156250e-01,  -1.81640625e-01,   1.38671875e-01,\n",
       "        -3.10546875e-01,  -9.71679688e-02,   1.31835938e-01,\n",
       "        -1.16210938e-01,   7.03125000e-02,   2.85156250e-01,\n",
       "         3.51562500e-02,  -1.01562500e-01,  -3.75976562e-02,\n",
       "         1.41601562e-01,   1.42578125e-01,  -5.68847656e-02,\n",
       "         2.65625000e-01,  -2.09960938e-01,   9.64355469e-03,\n",
       "        -6.68945312e-02,  -4.83398438e-02,  -6.10351562e-02,\n",
       "         2.45117188e-01,  -9.66796875e-02,   1.78222656e-02,\n",
       "        -1.27929688e-01,  -4.78515625e-02,  -7.26318359e-03,\n",
       "         1.79687500e-01,   2.78320312e-02,  -2.10937500e-01,\n",
       "        -1.43554688e-01,  -1.27929688e-01,   1.73339844e-02,\n",
       "        -3.60107422e-03,  -2.04101562e-01,   3.63159180e-03,\n",
       "        -1.19628906e-01,  -6.15234375e-02,   5.93261719e-02,\n",
       "        -3.23486328e-03,  -1.70898438e-01,  -3.14941406e-02,\n",
       "        -8.88671875e-02,  -2.89062500e-01,   3.44238281e-02,\n",
       "        -1.87500000e-01,   2.94921875e-01,   1.58203125e-01,\n",
       "        -1.19628906e-01,   7.61718750e-02,   6.39648438e-02,\n",
       "        -4.68750000e-02,  -6.83593750e-02,   1.21459961e-02,\n",
       "        -1.44531250e-01,   4.54101562e-02,   3.68652344e-02,\n",
       "         3.88671875e-01,   1.45507812e-01,  -2.55859375e-01,\n",
       "        -4.46777344e-02,  -1.33789062e-01,  -1.38671875e-01,\n",
       "         6.59179688e-02,   1.37695312e-01,   1.14746094e-01,\n",
       "         2.03125000e-01,  -4.78515625e-02,   1.80664062e-02,\n",
       "        -8.54492188e-02,  -2.48046875e-01,  -3.39843750e-01,\n",
       "        -2.83203125e-02,   1.05468750e-01,  -2.14843750e-01,\n",
       "        -8.74023438e-02,   7.12890625e-02,   1.87500000e-01,\n",
       "        -1.12304688e-01,   2.73437500e-01,  -3.26171875e-01,\n",
       "        -1.77734375e-01,  -4.24804688e-02,  -2.69531250e-01,\n",
       "         6.64062500e-02,  -6.88476562e-02,  -1.99218750e-01,\n",
       "        -7.03125000e-02,  -2.43164062e-01,  -3.66210938e-02,\n",
       "        -7.37304688e-02,  -1.77734375e-01,   9.17968750e-02,\n",
       "        -1.25000000e-01,  -1.65039062e-01,  -3.57421875e-01,\n",
       "        -2.85156250e-01,  -1.66992188e-01,   1.97265625e-01,\n",
       "        -1.53320312e-01,   2.31933594e-02,   2.06054688e-01,\n",
       "         1.80664062e-01,  -2.74658203e-02,  -1.92382812e-01,\n",
       "        -9.61914062e-02,  -1.06811523e-02,  -4.73632812e-02,\n",
       "         6.54296875e-02,  -1.25732422e-02,   1.78222656e-02,\n",
       "        -8.00781250e-02,  -2.59765625e-01,   9.37500000e-02,\n",
       "        -7.81250000e-02,   4.68750000e-02,  -2.22167969e-02,\n",
       "         1.86767578e-02,   3.11279297e-02,   1.04980469e-02,\n",
       "        -1.69921875e-01,   2.58789062e-02,  -3.41796875e-02,\n",
       "        -1.44042969e-02,  -5.46875000e-02,  -8.78906250e-02,\n",
       "         1.96838379e-03,   2.23632812e-01,  -1.36718750e-01,\n",
       "         1.75781250e-01,  -1.63085938e-01,   1.87500000e-01,\n",
       "         3.44238281e-02,  -5.63964844e-02,  -2.27689743e-05,\n",
       "         4.27246094e-02,   5.81054688e-02,  -1.07910156e-01,\n",
       "        -3.88183594e-02,  -2.69531250e-01,   3.34472656e-02,\n",
       "         9.81445312e-02,   5.63964844e-02,   2.23632812e-01,\n",
       "        -5.49316406e-02,   1.46484375e-01,   5.93261719e-02,\n",
       "        -2.19726562e-01,   6.39648438e-02,   1.66015625e-02,\n",
       "         4.56542969e-02,   3.26171875e-01,  -3.80859375e-01,\n",
       "         1.70898438e-01,   5.66406250e-02,  -1.04492188e-01,\n",
       "         1.38671875e-01,  -1.57226562e-01,   3.23486328e-03,\n",
       "        -4.80957031e-02,  -2.48046875e-01,  -6.20117188e-02], dtype=float32)"
      ]
     },
     "execution_count": 3,
     "metadata": {},
     "output_type": "execute_result"
    }
   ],
   "source": [
    "model.wv['computer']"
   ]
  },
  {
   "cell_type": "code",
   "execution_count": 4,
   "metadata": {},
   "outputs": [
    {
     "data": {
      "text/plain": [
       "[('queen', 0.7118192911148071)]"
      ]
     },
     "execution_count": 4,
     "metadata": {},
     "output_type": "execute_result"
    }
   ],
   "source": [
    "model.wv.most_similar(positive=['woman', 'king'], negative=['man'], topn=1)"
   ]
  },
  {
   "cell_type": "code",
   "execution_count": 5,
   "metadata": {},
   "outputs": [
    {
     "data": {
      "text/plain": [
       "[('Berlin', 0.7644002437591553)]"
      ]
     },
     "execution_count": 5,
     "metadata": {},
     "output_type": "execute_result"
    }
   ],
   "source": [
    "model.wv.most_similar(positive=['Paris', 'Germany'], negative=['France'], topn=1)"
   ]
  },
  {
   "cell_type": "code",
   "execution_count": 6,
   "metadata": {},
   "outputs": [
    {
     "data": {
      "text/plain": [
       "[('apples', 0.720359742641449),\n",
       " ('pear', 0.6450697183609009),\n",
       " ('fruit', 0.641014575958252),\n",
       " ('berry', 0.6302294135093689),\n",
       " ('pears', 0.6133961081504822),\n",
       " ('strawberry', 0.6058261394500732),\n",
       " ('peach', 0.6025872230529785),\n",
       " ('potato', 0.5960935354232788),\n",
       " ('grape', 0.5935864448547363),\n",
       " ('blueberry', 0.5866668224334717)]"
      ]
     },
     "execution_count": 6,
     "metadata": {},
     "output_type": "execute_result"
    }
   ],
   "source": [
    "model.wv.most_similar('apple')"
   ]
  },
  {
   "cell_type": "code",
   "execution_count": 7,
   "metadata": {},
   "outputs": [
    {
     "data": {
      "text/plain": [
       "[('israeli', 0.6865879893302917),\n",
       " ('palestine', 0.683965802192688),\n",
       " ('hamas', 0.6609820127487183),\n",
       " ('lebanon', 0.6575676202774048),\n",
       " ('palestinians', 0.6564670205116272),\n",
       " ('syria', 0.6459972858428955),\n",
       " ('palestinian', 0.6415829062461853),\n",
       " ('iran', 0.6401227712631226),\n",
       " ('arabs', 0.6378138065338135),\n",
       " ('israelis', 0.6294159889221191)]"
      ]
     },
     "execution_count": 7,
     "metadata": {},
     "output_type": "execute_result"
    }
   ],
   "source": [
    "model.wv.most_similar('israel')"
   ]
  },
  {
   "cell_type": "code",
   "execution_count": 8,
   "metadata": {},
   "outputs": [
    {
     "data": {
      "text/plain": [
       "[('curries', 0.7600950598716736),\n",
       " ('chicken_curry', 0.6915757060050964),\n",
       " ('vindaloo', 0.6852508783340454),\n",
       " ('balti', 0.6741241216659546),\n",
       " ('lamb_curry', 0.6699929237365723),\n",
       " ('pilau_rice', 0.6593483686447144),\n",
       " ('tikka_masala', 0.6552911996841431),\n",
       " ('naan_bread', 0.6550623178482056),\n",
       " ('tandoori', 0.6533255577087402),\n",
       " ('vindaloos', 0.6502728462219238)]"
      ]
     },
     "execution_count": 8,
     "metadata": {},
     "output_type": "execute_result"
    }
   ],
   "source": [
    "model.wv.most_similar('curry')"
   ]
  },
  {
   "cell_type": "code",
   "execution_count": 9,
   "metadata": {},
   "outputs": [
    {
     "data": {
      "text/plain": [
       "'dinner'"
      ]
     },
     "execution_count": 9,
     "metadata": {},
     "output_type": "execute_result"
    }
   ],
   "source": [
    "model.wv.doesnt_match(\"apple orange dinner fruit\".split())"
   ]
  },
  {
   "cell_type": "code",
   "execution_count": 10,
   "metadata": {},
   "outputs": [
    {
     "data": {
      "text/plain": [
       "'curry'"
      ]
     },
     "execution_count": 10,
     "metadata": {},
     "output_type": "execute_result"
    }
   ],
   "source": [
    "model.wv.doesnt_match(\"pizza curry pepperoni burger\".split())"
   ]
  },
  {
   "cell_type": "code",
   "execution_count": 11,
   "metadata": {},
   "outputs": [
    {
     "data": {
      "text/plain": [
       "[('christians', 0.7363372445106506),\n",
       " ('christianity', 0.6904212236404419),\n",
       " ('muslim', 0.6760123372077942),\n",
       " ('christain', 0.6715848445892334),\n",
       " ('mormons', 0.6435540914535522),\n",
       " ('baptist', 0.6295936703681946),\n",
       " ('muslims', 0.6204735040664673),\n",
       " ('mormon', 0.6117746233940125),\n",
       " ('hindu', 0.6099814772605896),\n",
       " ('islam', 0.6067479848861694)]"
      ]
     },
     "execution_count": 11,
     "metadata": {},
     "output_type": "execute_result"
    }
   ],
   "source": [
    "model.wv.most_similar('christian')"
   ]
  },
  {
   "cell_type": "code",
   "execution_count": 12,
   "metadata": {},
   "outputs": [
    {
     "data": {
      "text/plain": [
       "[('Lionel_Messi', 0.840912938117981),\n",
       " ('Xavi', 0.8333092927932739),\n",
       " ('Iniesta', 0.8275967836380005),\n",
       " ('Ronaldinho', 0.8265319466590881),\n",
       " ('Ronaldo', 0.8209547400474548),\n",
       " (\"Eto'o\", 0.8086107969284058),\n",
       " ('Forlan', 0.8052786588668823),\n",
       " ('Leo_Messi', 0.7813161611557007),\n",
       " ('Higuain', 0.7786868810653687),\n",
       " ('Puyol', 0.7752934694290161)]"
      ]
     },
     "execution_count": 12,
     "metadata": {},
     "output_type": "execute_result"
    }
   ],
   "source": [
    "model.wv.most_similar('Messi')"
   ]
  },
  {
   "cell_type": "code",
   "execution_count": 13,
   "metadata": {},
   "outputs": [
    {
     "data": {
      "text/plain": [
       "[('William_Shakespeare', 0.7869808673858643),\n",
       " ('Shakespearean', 0.7731403112411499),\n",
       " ('King_Lear', 0.7269173264503479),\n",
       " ('Shakepeare', 0.7082269191741943),\n",
       " ('Shakespearian', 0.7042751312255859),\n",
       " ('Macbeth', 0.7028621435165405),\n",
       " ('Hamlet', 0.6844542026519775),\n",
       " ('Twelfth_Night', 0.671601414680481),\n",
       " ('Shakespeare_Hamlet', 0.6581018567085266),\n",
       " ('Elizabethan_Age', 0.6479815244674683)]"
      ]
     },
     "execution_count": 13,
     "metadata": {},
     "output_type": "execute_result"
    }
   ],
   "source": [
    "model.wv.most_similar('Shakespeare')"
   ]
  },
  {
   "cell_type": "code",
   "execution_count": 14,
   "metadata": {},
   "outputs": [
    {
     "data": {
      "text/plain": [
       "[('JK_Rowling_Harry_Potter', 0.8099108934402466),\n",
       " ('JK_Rowling', 0.7601271867752075),\n",
       " ('boy_wizard', 0.7601090669631958),\n",
       " ('Deathly_Hallows', 0.7433497905731201),\n",
       " ('Half_Blood_Prince', 0.7220072746276855),\n",
       " ('Rowling', 0.6777119040489197),\n",
       " ('Actor_Rupert_Grint', 0.6671971678733826),\n",
       " ('HARRY_Potter', 0.6649889945983887),\n",
       " ('wizard_Harry_Potter', 0.6647595167160034),\n",
       " ('HARRY_POTTER', 0.661433219909668)]"
      ]
     },
     "execution_count": 14,
     "metadata": {},
     "output_type": "execute_result"
    }
   ],
   "source": [
    "model.wv.most_similar('Harry_Potter')"
   ]
  }
 ],
 "metadata": {
  "kernelspec": {
   "display_name": "Python 3",
   "language": "python",
   "name": "python3"
  },
  "language_info": {
   "codemirror_mode": {
    "name": "ipython",
    "version": 3
   },
   "file_extension": ".py",
   "mimetype": "text/x-python",
   "name": "python",
   "nbconvert_exporter": "python",
   "pygments_lexer": "ipython3",
   "version": "3.6.1"
  }
 },
 "nbformat": 4,
 "nbformat_minor": 2
}
